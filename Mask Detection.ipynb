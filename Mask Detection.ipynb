{
 "cells": [
  {
   "cell_type": "code",
   "execution_count": 1,
   "metadata": {
    "tags": []
   },
   "outputs": [
    {
     "name": "stdout",
     "output_type": "stream",
     "text": [
      "Requirement already satisfied: opencv-python in /opt/conda/envs/sagemaker-distribution/lib/python3.10/site-packages (from -r requirements.txt (line 1)) (4.11.0.86)\n",
      "Requirement already satisfied: jupyterlab_tabnine in /opt/conda/envs/sagemaker-distribution/lib/python3.10/site-packages (from -r requirements.txt (line 2)) (0.0.24)\n",
      "Requirement already satisfied: numpy>=1.21.2 in /opt/conda/envs/sagemaker-distribution/lib/python3.10/site-packages (from opencv-python->-r requirements.txt (line 1)) (1.26.4)\n"
     ]
    }
   ],
   "source": [
    "!pip install -r requirements.txt"
   ]
  },
  {
   "cell_type": "code",
   "execution_count": 2,
   "metadata": {
    "executionInfo": {
     "elapsed": 11361,
     "status": "ok",
     "timestamp": 1737100428952,
     "user": {
      "displayName": "Orton",
      "userId": "02986268307795641491"
     },
     "user_tz": -330
    },
    "id": "Ra1UkZVqzWpP",
    "tags": []
   },
   "outputs": [
    {
     "name": "stderr",
     "output_type": "stream",
     "text": [
      "2025-01-19 10:01:03.117900: I tensorflow/core/platform/cpu_feature_guard.cc:182] This TensorFlow binary is optimized to use available CPU instructions in performance-critical operations.\n",
      "To enable the following instructions: SSE4.1 SSE4.2 AVX AVX2 AVX512F FMA, in other operations, rebuild TensorFlow with the appropriate compiler flags.\n"
     ]
    }
   ],
   "source": [
    "from keras.preprocessing import image\n",
    "from keras.applications.vgg16 import VGG16\n",
    "from keras.layers import Dense\n",
    "from sklearn.model_selection import train_test_split\n",
    "from keras import Sequential\n",
    "import os,cv2,random\n",
    "import numpy as np"
   ]
  },
  {
   "cell_type": "code",
   "execution_count": 3,
   "metadata": {
    "executionInfo": {
     "elapsed": 4,
     "status": "ok",
     "timestamp": 1737100429468,
     "user": {
      "displayName": "Orton",
      "userId": "02986268307795641491"
     },
     "user_tz": -330
    },
    "id": "YX05w3vIzWpT"
   },
   "outputs": [],
   "source": [
    "categories = ['without_mask', 'with_mask']"
   ]
  },
  {
   "cell_type": "code",
   "execution_count": 4,
   "metadata": {
    "colab": {
     "base_uri": "https://localhost:8080/"
    },
    "executionInfo": {
     "elapsed": 48753,
     "status": "ok",
     "timestamp": 1737100478218,
     "user": {
      "displayName": "Orton",
      "userId": "02986268307795641491"
     },
     "user_tz": -330
    },
    "id": "rfysYkILzWpT",
    "outputId": "051cd321-42a8-4038-f8d9-92b8e8a61984"
   },
   "outputs": [],
   "source": [
    "categories = ['without_mask', 'with_mask']\n",
    "data = []\n",
    "\n",
    "for category in categories:\n",
    "    path = os.path.join('./data', category)\n",
    "    label = categories.index(category)\n",
    "\n",
    "    for file in os.listdir(path):\n",
    "        \n",
    "        if file.endswith(\".jpg\"):\n",
    "            img_path = os.path.join(path, file)\n",
    "            img = cv2.imread(img_path)\n",
    "            img = cv2.resize(img,(224, 224))\n",
    "        else:\n",
    "            pass\n",
    "    \n",
    "        data.append([img, label])\n"
   ]
  },
  {
   "cell_type": "code",
   "execution_count": 5,
   "metadata": {
    "colab": {
     "base_uri": "https://localhost:8080/"
    },
    "executionInfo": {
     "elapsed": 13,
     "status": "ok",
     "timestamp": 1737100478219,
     "user": {
      "displayName": "Orton",
      "userId": "02986268307795641491"
     },
     "user_tz": -330
    },
    "id": "lAI_TrGTzWpU",
    "outputId": "5f58365b-7f49-4cd1-bf9a-953981221849"
   },
   "outputs": [
    {
     "data": {
      "text/plain": [
       "2874"
      ]
     },
     "execution_count": 5,
     "metadata": {},
     "output_type": "execute_result"
    }
   ],
   "source": [
    "len(data)"
   ]
  },
  {
   "cell_type": "code",
   "execution_count": 6,
   "metadata": {
    "executionInfo": {
     "elapsed": 11,
     "status": "ok",
     "timestamp": 1737100478219,
     "user": {
      "displayName": "Orton",
      "userId": "02986268307795641491"
     },
     "user_tz": -330
    },
    "id": "rlArlfnKzWpW"
   },
   "outputs": [],
   "source": [
    "random.shuffle(data)"
   ]
  },
  {
   "cell_type": "code",
   "execution_count": 7,
   "metadata": {
    "executionInfo": {
     "elapsed": 11,
     "status": "ok",
     "timestamp": 1737100478219,
     "user": {
      "displayName": "Orton",
      "userId": "02986268307795641491"
     },
     "user_tz": -330
    },
    "id": "gxuLfQ3qzWpX"
   },
   "outputs": [],
   "source": [
    "X = []\n",
    "y = []\n",
    "for features, label in data:\n",
    "    X.append(features)\n",
    "    y.append(label)"
   ]
  },
  {
   "cell_type": "code",
   "execution_count": 8,
   "metadata": {
    "colab": {
     "base_uri": "https://localhost:8080/"
    },
    "executionInfo": {
     "elapsed": 11,
     "status": "ok",
     "timestamp": 1737100478219,
     "user": {
      "displayName": "Orton",
      "userId": "02986268307795641491"
     },
     "user_tz": -330
    },
    "id": "055tuxz8zWpY",
    "outputId": "50534004-996b-4015-cb57-9117657eca6c"
   },
   "outputs": [
    {
     "data": {
      "text/plain": [
       "2874"
      ]
     },
     "execution_count": 8,
     "metadata": {},
     "output_type": "execute_result"
    }
   ],
   "source": [
    "len(X)"
   ]
  },
  {
   "cell_type": "code",
   "execution_count": 9,
   "metadata": {
    "colab": {
     "base_uri": "https://localhost:8080/"
    },
    "executionInfo": {
     "elapsed": 10,
     "status": "ok",
     "timestamp": 1737100478219,
     "user": {
      "displayName": "Orton",
      "userId": "02986268307795641491"
     },
     "user_tz": -330
    },
    "id": "qhq9u2KIzWpY",
    "outputId": "25638e4b-c7d0-4854-bfeb-80d5cd8ef61c"
   },
   "outputs": [
    {
     "data": {
      "text/plain": [
       "2874"
      ]
     },
     "execution_count": 9,
     "metadata": {},
     "output_type": "execute_result"
    }
   ],
   "source": [
    "len(y)"
   ]
  },
  {
   "cell_type": "code",
   "execution_count": 10,
   "metadata": {
    "executionInfo": {
     "elapsed": 8,
     "status": "ok",
     "timestamp": 1737100478219,
     "user": {
      "displayName": "Orton",
      "userId": "02986268307795641491"
     },
     "user_tz": -330
    },
    "id": "9-4lUfq7zWpa"
   },
   "outputs": [],
   "source": [
    "X = np.array(X)\n",
    "y = np.array(y)"
   ]
  },
  {
   "cell_type": "code",
   "execution_count": 11,
   "metadata": {
    "executionInfo": {
     "elapsed": 8,
     "status": "ok",
     "timestamp": 1737100478219,
     "user": {
      "displayName": "Orton",
      "userId": "02986268307795641491"
     },
     "user_tz": -330
    },
    "id": "LpLI2oGmzWpa"
   },
   "outputs": [],
   "source": [
    "X = X/255"
   ]
  },
  {
   "cell_type": "code",
   "execution_count": 12,
   "metadata": {},
   "outputs": [
    {
     "name": "stdout",
     "output_type": "stream",
     "text": [
      "(2874, 224, 224, 3)\n",
      "(2874,)\n"
     ]
    }
   ],
   "source": [
    "print(X.shape)\n",
    "print(y.shape)"
   ]
  },
  {
   "cell_type": "code",
   "execution_count": 13,
   "metadata": {
    "executionInfo": {
     "elapsed": 2311,
     "status": "ok",
     "timestamp": 1737100480522,
     "user": {
      "displayName": "Orton",
      "userId": "02986268307795641491"
     },
     "user_tz": -330
    },
    "id": "ZAYaQUB0zWpa"
   },
   "outputs": [],
   "source": [
    "X_train, X_test, y_train, y_test = train_test_split(X,y, test_size=0.2)"
   ]
  },
  {
   "cell_type": "code",
   "execution_count": 14,
   "metadata": {
    "colab": {
     "base_uri": "https://localhost:8080/"
    },
    "executionInfo": {
     "elapsed": 5,
     "status": "ok",
     "timestamp": 1737100480523,
     "user": {
      "displayName": "Orton",
      "userId": "02986268307795641491"
     },
     "user_tz": -330
    },
    "id": "Ay7BW9C0zWpa",
    "outputId": "15568613-a47e-4c5b-c4e9-7b7e3e3a4880"
   },
   "outputs": [
    {
     "data": {
      "text/plain": [
       "(2299, 224, 224, 3)"
      ]
     },
     "execution_count": 14,
     "metadata": {},
     "output_type": "execute_result"
    }
   ],
   "source": [
    "X_train.shape\n"
   ]
  },
  {
   "cell_type": "code",
   "execution_count": 15,
   "metadata": {
    "colab": {
     "base_uri": "https://localhost:8080/"
    },
    "executionInfo": {
     "elapsed": 8559,
     "status": "ok",
     "timestamp": 1737100489079,
     "user": {
      "displayName": "Orton",
      "userId": "02986268307795641491"
     },
     "user_tz": -330
    },
    "id": "UOgJRXokzWpb",
    "outputId": "878b6462-3dc9-4ba6-ca81-09b2634072cf"
   },
   "outputs": [
    {
     "name": "stderr",
     "output_type": "stream",
     "text": [
      "2025-01-19 10:01:20.374006: W external/local_tsl/tsl/framework/cpu_allocator_impl.cc:83] Allocation of 411041792 exceeds 10% of free system memory.\n",
      "2025-01-19 10:01:20.739697: W external/local_tsl/tsl/framework/cpu_allocator_impl.cc:83] Allocation of 411041792 exceeds 10% of free system memory.\n",
      "2025-01-19 10:01:20.928814: W external/local_tsl/tsl/framework/cpu_allocator_impl.cc:83] Allocation of 411041792 exceeds 10% of free system memory.\n",
      "2025-01-19 10:01:21.156176: W external/local_tsl/tsl/framework/cpu_allocator_impl.cc:83] Allocation of 67108864 exceeds 10% of free system memory.\n",
      "2025-01-19 10:01:21.212461: W external/local_tsl/tsl/framework/cpu_allocator_impl.cc:83] Allocation of 67108864 exceeds 10% of free system memory.\n"
     ]
    }
   ],
   "source": [
    "vgg = VGG16()"
   ]
  },
  {
   "cell_type": "code",
   "execution_count": 16,
   "metadata": {
    "executionInfo": {
     "elapsed": 20,
     "status": "ok",
     "timestamp": 1737100489080,
     "user": {
      "displayName": "Orton",
      "userId": "02986268307795641491"
     },
     "user_tz": -330
    },
    "id": "a8Rb3fotzWpb"
   },
   "outputs": [],
   "source": [
    "model = Sequential()"
   ]
  },
  {
   "cell_type": "code",
   "execution_count": 17,
   "metadata": {
    "executionInfo": {
     "elapsed": 20,
     "status": "ok",
     "timestamp": 1737100489081,
     "user": {
      "displayName": "Orton",
      "userId": "02986268307795641491"
     },
     "user_tz": -330
    },
    "id": "zEdDh3KSzWpb"
   },
   "outputs": [],
   "source": [
    "for layer in vgg.layers[:-1]:\n",
    "    model.add(layer)"
   ]
  },
  {
   "cell_type": "code",
   "execution_count": 18,
   "metadata": {
    "colab": {
     "base_uri": "https://localhost:8080/",
     "height": 801
    },
    "executionInfo": {
     "elapsed": 20,
     "status": "ok",
     "timestamp": 1737100489081,
     "user": {
      "displayName": "Orton",
      "userId": "02986268307795641491"
     },
     "user_tz": -330
    },
    "id": "W2mQ2ADIzWpb",
    "outputId": "36410e1d-1969-4a51-cb64-04315a4d643b"
   },
   "outputs": [
    {
     "name": "stdout",
     "output_type": "stream",
     "text": [
      "Model: \"sequential\"\n",
      "_________________________________________________________________\n",
      " Layer (type)                Output Shape              Param #   \n",
      "=================================================================\n",
      " block1_conv1 (Conv2D)       (None, 224, 224, 64)      1792      \n",
      "                                                                 \n",
      " block1_conv2 (Conv2D)       (None, 224, 224, 64)      36928     \n",
      "                                                                 \n",
      " block1_pool (MaxPooling2D)  (None, 112, 112, 64)      0         \n",
      "                                                                 \n",
      " block2_conv1 (Conv2D)       (None, 112, 112, 128)     73856     \n",
      "                                                                 \n",
      " block2_conv2 (Conv2D)       (None, 112, 112, 128)     147584    \n",
      "                                                                 \n",
      " block2_pool (MaxPooling2D)  (None, 56, 56, 128)       0         \n",
      "                                                                 \n",
      " block3_conv1 (Conv2D)       (None, 56, 56, 256)       295168    \n",
      "                                                                 \n",
      " block3_conv2 (Conv2D)       (None, 56, 56, 256)       590080    \n",
      "                                                                 \n",
      " block3_conv3 (Conv2D)       (None, 56, 56, 256)       590080    \n",
      "                                                                 \n",
      " block3_pool (MaxPooling2D)  (None, 28, 28, 256)       0         \n",
      "                                                                 \n",
      " block4_conv1 (Conv2D)       (None, 28, 28, 512)       1180160   \n",
      "                                                                 \n",
      " block4_conv2 (Conv2D)       (None, 28, 28, 512)       2359808   \n",
      "                                                                 \n",
      " block4_conv3 (Conv2D)       (None, 28, 28, 512)       2359808   \n",
      "                                                                 \n",
      " block4_pool (MaxPooling2D)  (None, 14, 14, 512)       0         \n",
      "                                                                 \n",
      " block5_conv1 (Conv2D)       (None, 14, 14, 512)       2359808   \n",
      "                                                                 \n",
      " block5_conv2 (Conv2D)       (None, 14, 14, 512)       2359808   \n",
      "                                                                 \n",
      " block5_conv3 (Conv2D)       (None, 14, 14, 512)       2359808   \n",
      "                                                                 \n",
      " block5_pool (MaxPooling2D)  (None, 7, 7, 512)         0         \n",
      "                                                                 \n",
      " flatten (Flatten)           (None, 25088)             0         \n",
      "                                                                 \n",
      " fc1 (Dense)                 (None, 4096)              102764544 \n",
      "                                                                 \n",
      " fc2 (Dense)                 (None, 4096)              16781312  \n",
      "                                                                 \n",
      "=================================================================\n",
      "Total params: 134260544 (512.16 MB)\n",
      "Trainable params: 134260544 (512.16 MB)\n",
      "Non-trainable params: 0 (0.00 Byte)\n",
      "_________________________________________________________________\n"
     ]
    }
   ],
   "source": [
    "model.summary()"
   ]
  },
  {
   "cell_type": "code",
   "execution_count": 19,
   "metadata": {
    "executionInfo": {
     "elapsed": 17,
     "status": "ok",
     "timestamp": 1737100489081,
     "user": {
      "displayName": "Orton",
      "userId": "02986268307795641491"
     },
     "user_tz": -330
    },
    "id": "2lAkzyEozWpc"
   },
   "outputs": [],
   "source": [
    "for layer in model.layers:\n",
    "    layer.trainable = False"
   ]
  },
  {
   "cell_type": "code",
   "execution_count": 20,
   "metadata": {
    "colab": {
     "base_uri": "https://localhost:8080/",
     "height": 801
    },
    "executionInfo": {
     "elapsed": 16,
     "status": "ok",
     "timestamp": 1737100489081,
     "user": {
      "displayName": "Orton",
      "userId": "02986268307795641491"
     },
     "user_tz": -330
    },
    "id": "L-FXcHKVzWpc",
    "outputId": "7d2a481b-db45-46cb-f3a8-988f6d8e9d95"
   },
   "outputs": [
    {
     "name": "stdout",
     "output_type": "stream",
     "text": [
      "Model: \"sequential\"\n",
      "_________________________________________________________________\n",
      " Layer (type)                Output Shape              Param #   \n",
      "=================================================================\n",
      " block1_conv1 (Conv2D)       (None, 224, 224, 64)      1792      \n",
      "                                                                 \n",
      " block1_conv2 (Conv2D)       (None, 224, 224, 64)      36928     \n",
      "                                                                 \n",
      " block1_pool (MaxPooling2D)  (None, 112, 112, 64)      0         \n",
      "                                                                 \n",
      " block2_conv1 (Conv2D)       (None, 112, 112, 128)     73856     \n",
      "                                                                 \n",
      " block2_conv2 (Conv2D)       (None, 112, 112, 128)     147584    \n",
      "                                                                 \n",
      " block2_pool (MaxPooling2D)  (None, 56, 56, 128)       0         \n",
      "                                                                 \n",
      " block3_conv1 (Conv2D)       (None, 56, 56, 256)       295168    \n",
      "                                                                 \n",
      " block3_conv2 (Conv2D)       (None, 56, 56, 256)       590080    \n",
      "                                                                 \n",
      " block3_conv3 (Conv2D)       (None, 56, 56, 256)       590080    \n",
      "                                                                 \n",
      " block3_pool (MaxPooling2D)  (None, 28, 28, 256)       0         \n",
      "                                                                 \n",
      " block4_conv1 (Conv2D)       (None, 28, 28, 512)       1180160   \n",
      "                                                                 \n",
      " block4_conv2 (Conv2D)       (None, 28, 28, 512)       2359808   \n",
      "                                                                 \n",
      " block4_conv3 (Conv2D)       (None, 28, 28, 512)       2359808   \n",
      "                                                                 \n",
      " block4_pool (MaxPooling2D)  (None, 14, 14, 512)       0         \n",
      "                                                                 \n",
      " block5_conv1 (Conv2D)       (None, 14, 14, 512)       2359808   \n",
      "                                                                 \n",
      " block5_conv2 (Conv2D)       (None, 14, 14, 512)       2359808   \n",
      "                                                                 \n",
      " block5_conv3 (Conv2D)       (None, 14, 14, 512)       2359808   \n",
      "                                                                 \n",
      " block5_pool (MaxPooling2D)  (None, 7, 7, 512)         0         \n",
      "                                                                 \n",
      " flatten (Flatten)           (None, 25088)             0         \n",
      "                                                                 \n",
      " fc1 (Dense)                 (None, 4096)              102764544 \n",
      "                                                                 \n",
      " fc2 (Dense)                 (None, 4096)              16781312  \n",
      "                                                                 \n",
      "=================================================================\n",
      "Total params: 134260544 (512.16 MB)\n",
      "Trainable params: 0 (0.00 Byte)\n",
      "Non-trainable params: 134260544 (512.16 MB)\n",
      "_________________________________________________________________\n"
     ]
    }
   ],
   "source": [
    "model.summary()"
   ]
  },
  {
   "cell_type": "code",
   "execution_count": 21,
   "metadata": {
    "executionInfo": {
     "elapsed": 14,
     "status": "ok",
     "timestamp": 1737100489081,
     "user": {
      "displayName": "Orton",
      "userId": "02986268307795641491"
     },
     "user_tz": -330
    },
    "id": "h-mayWkLzWpd"
   },
   "outputs": [],
   "source": [
    "model.add(Dense(1, activation= 'sigmoid'))"
   ]
  },
  {
   "cell_type": "code",
   "execution_count": 22,
   "metadata": {
    "colab": {
     "base_uri": "https://localhost:8080/",
     "height": 833
    },
    "executionInfo": {
     "elapsed": 14,
     "status": "ok",
     "timestamp": 1737100489081,
     "user": {
      "displayName": "Orton",
      "userId": "02986268307795641491"
     },
     "user_tz": -330
    },
    "id": "52a2BLuxzWpd",
    "outputId": "d6cae958-ba83-463f-f438-6f29d309f4ab"
   },
   "outputs": [
    {
     "name": "stdout",
     "output_type": "stream",
     "text": [
      "Model: \"sequential\"\n",
      "_________________________________________________________________\n",
      " Layer (type)                Output Shape              Param #   \n",
      "=================================================================\n",
      " block1_conv1 (Conv2D)       (None, 224, 224, 64)      1792      \n",
      "                                                                 \n",
      " block1_conv2 (Conv2D)       (None, 224, 224, 64)      36928     \n",
      "                                                                 \n",
      " block1_pool (MaxPooling2D)  (None, 112, 112, 64)      0         \n",
      "                                                                 \n",
      " block2_conv1 (Conv2D)       (None, 112, 112, 128)     73856     \n",
      "                                                                 \n",
      " block2_conv2 (Conv2D)       (None, 112, 112, 128)     147584    \n",
      "                                                                 \n",
      " block2_pool (MaxPooling2D)  (None, 56, 56, 128)       0         \n",
      "                                                                 \n",
      " block3_conv1 (Conv2D)       (None, 56, 56, 256)       295168    \n",
      "                                                                 \n",
      " block3_conv2 (Conv2D)       (None, 56, 56, 256)       590080    \n",
      "                                                                 \n",
      " block3_conv3 (Conv2D)       (None, 56, 56, 256)       590080    \n",
      "                                                                 \n",
      " block3_pool (MaxPooling2D)  (None, 28, 28, 256)       0         \n",
      "                                                                 \n",
      " block4_conv1 (Conv2D)       (None, 28, 28, 512)       1180160   \n",
      "                                                                 \n",
      " block4_conv2 (Conv2D)       (None, 28, 28, 512)       2359808   \n",
      "                                                                 \n",
      " block4_conv3 (Conv2D)       (None, 28, 28, 512)       2359808   \n",
      "                                                                 \n",
      " block4_pool (MaxPooling2D)  (None, 14, 14, 512)       0         \n",
      "                                                                 \n",
      " block5_conv1 (Conv2D)       (None, 14, 14, 512)       2359808   \n",
      "                                                                 \n",
      " block5_conv2 (Conv2D)       (None, 14, 14, 512)       2359808   \n",
      "                                                                 \n",
      " block5_conv3 (Conv2D)       (None, 14, 14, 512)       2359808   \n",
      "                                                                 \n",
      " block5_pool (MaxPooling2D)  (None, 7, 7, 512)         0         \n",
      "                                                                 \n",
      " flatten (Flatten)           (None, 25088)             0         \n",
      "                                                                 \n",
      " fc1 (Dense)                 (None, 4096)              102764544 \n",
      "                                                                 \n",
      " fc2 (Dense)                 (None, 4096)              16781312  \n",
      "                                                                 \n",
      " dense (Dense)               (None, 1)                 4097      \n",
      "                                                                 \n",
      "=================================================================\n",
      "Total params: 134264641 (512.18 MB)\n",
      "Trainable params: 4097 (16.00 KB)\n",
      "Non-trainable params: 134260544 (512.16 MB)\n",
      "_________________________________________________________________\n"
     ]
    }
   ],
   "source": [
    "model.summary()"
   ]
  },
  {
   "cell_type": "code",
   "execution_count": 23,
   "metadata": {
    "executionInfo": {
     "elapsed": 11,
     "status": "ok",
     "timestamp": 1737100489081,
     "user": {
      "displayName": "Orton",
      "userId": "02986268307795641491"
     },
     "user_tz": -330
    },
    "id": "6ZqYf3lYzWpd"
   },
   "outputs": [],
   "source": [
    "model.compile(optimizer=\"adam\", loss='binary_crossentropy', metrics=['accuracy'])\n"
   ]
  },
  {
   "cell_type": "code",
   "execution_count": 24,
   "metadata": {
    "colab": {
     "base_uri": "https://localhost:8080/"
    },
    "executionInfo": {
     "elapsed": 84787,
     "status": "ok",
     "timestamp": 1737100573857,
     "user": {
      "displayName": "Orton",
      "userId": "02986268307795641491"
     },
     "user_tz": -330
    },
    "id": "uZTEgEV1zWpe",
    "outputId": "86c61742-8343-438f-ee44-3ea8837a0ba6"
   },
   "outputs": [
    {
     "name": "stdout",
     "output_type": "stream",
     "text": [
      "72/72 [==============================] - 519s 7s/step - loss: 0.5648 - accuracy: 0.6842 - val_loss: 0.3936 - val_accuracy: 0.8557\n"
     ]
    },
    {
     "data": {
      "text/plain": [
       "<keras.src.callbacks.History at 0x7f6f542fd840>"
      ]
     },
     "execution_count": 24,
     "metadata": {},
     "output_type": "execute_result"
    }
   ],
   "source": [
    "model.fit(X_train, y_train, epochs=1, validation_data= (X_test, y_test))"
   ]
  },
  {
   "cell_type": "code",
   "execution_count": 25,
   "metadata": {
    "executionInfo": {
     "elapsed": 5,
     "status": "ok",
     "timestamp": 1737100573858,
     "user": {
      "displayName": "Orton",
      "userId": "02986268307795641491"
     },
     "user_tz": -330
    },
    "id": "pE6dwzI3zWpe"
   },
   "outputs": [
    {
     "name": "stderr",
     "output_type": "stream",
     "text": [
      "[ WARN:0@588.464] global cap_v4l.cpp:913 open VIDEOIO(V4L2:/dev/video0): can't open camera by index\n",
      "[ERROR:0@588.470] global obsensor_uvc_stream_channel.cpp:158 getStreamChannelGroup Camera index out of range\n"
     ]
    }
   ],
   "source": [
    "cap = cv2.VideoCapture(0)"
   ]
  },
  {
   "cell_type": "code",
   "execution_count": 26,
   "metadata": {
    "executionInfo": {
     "elapsed": 5,
     "status": "ok",
     "timestamp": 1737100573858,
     "user": {
      "displayName": "Orton",
      "userId": "02986268307795641491"
     },
     "user_tz": -330
    },
    "id": "lVzH0ALGzWpe"
   },
   "outputs": [
    {
     "name": "stderr",
     "output_type": "stream",
     "text": [
      "[ WARN:0@588.506] global cap_v4l.cpp:913 open VIDEOIO(V4L2:/dev/video0): can't open camera by index\n",
      "[ERROR:0@588.507] global obsensor_uvc_stream_channel.cpp:158 getStreamChannelGroup Camera index out of range\n"
     ]
    }
   ],
   "source": [
    "cap = cv2.VideoCapture(0)\n",
    "\n",
    "def detect_Face_mask(img):\n",
    "\n",
    "    img_resized = cv2.resize(img, (224, 224))\n",
    "    img_normalized = img_resized / 255.0\n",
    "\n",
    "\n",
    "    y_pred = model.predict(img_normalized.reshape(1, 224, 224, 3))\n",
    "\n",
    "    return y_pred\n",
    "\n",
    "threshold = 0.716\n",
    "\n",
    "while True:\n",
    "    ret, frame = cap.read()\n",
    "    if not ret:\n",
    "        break\n",
    "\n",
    "    frame = cv2.resize(frame, (224, 224))\n",
    "    y_pred = detect_Face_mask(frame)\n",
    "\n",
    "\n",
    "    if y_pred >= threshold:\n",
    "        draw_label(frame, \"Mask\", (30, 30), (0, 255, 0))\n",
    "    else:\n",
    "        draw_label(frame, \"No Mask\", (30, 30), (0, 0, 255))\n",
    "\n",
    "    print(y_pred)\n",
    "    cv2.imshow(\"window\", frame)\n",
    "\n",
    "    if cv2.waitKey(1) & 0xFF == ord('x'):\n",
    "        break\n",
    "\n",
    "\n",
    "cap.release()\n",
    "\n",
    "\n",
    "cv2.destroyAllWindows()\n"
   ]
  },
  {
   "cell_type": "code",
   "execution_count": 27,
   "metadata": {
    "executionInfo": {
     "elapsed": 5,
     "status": "ok",
     "timestamp": 1737100573858,
     "user": {
      "displayName": "Orton",
      "userId": "02986268307795641491"
     },
     "user_tz": -330
    },
    "id": "lYMm9mgUzWpf"
   },
   "outputs": [],
   "source": [
    "def detect_Face_mask(img):\n",
    "\n",
    "   y_pred =  model.predict(img.reshape(1, 224, 224, 3))\n",
    "\n",
    "   return y_pred"
   ]
  },
  {
   "cell_type": "code",
   "execution_count": 28,
   "metadata": {
    "executionInfo": {
     "elapsed": 5,
     "status": "ok",
     "timestamp": 1737100573858,
     "user": {
      "displayName": "Orton",
      "userId": "02986268307795641491"
     },
     "user_tz": -330
    },
    "id": "sYfjs-dPzWpg"
   },
   "outputs": [],
   "source": [
    "def draw_label(img, text, pos, bg_color):\n",
    "    text_size = cv2.getTextSize(text, cv2.FONT_HERSHEY_COMPLEX, 1, cv2.FILLED)\n",
    "    end_x = pos[0]+ text_size[0][0]+ 2\n",
    "    end_y = pos[0]+ text_size[0][1]- 2\n",
    "\n",
    "    cv2.rectangle(img, pos, (end_x, end_y), bg_color, cv2.FILLED )\n",
    "    cv2.putText(img, text, pos, cv2.FONT_HERSHEY_COMPLEX, 1,( 0, 0, 0), 1, cv2.LINE_AA)"
   ]
  },
  {
   "cell_type": "code",
   "execution_count": 29,
   "metadata": {
    "id": "PZPM9t6VzWph",
    "tags": []
   },
   "outputs": [
    {
     "name": "stdout",
     "output_type": "stream",
     "text": [
      "1/1 [==============================] - 1s 540ms/step\n",
      "[[0.6243762]]\n"
     ]
    }
   ],
   "source": [
    "# Resize the image to 224x224\n",
    "image_path = './data/with_mask/with_mask_15.jpg'\n",
    "sample1 = cv2.imread(image_path)  # Read the image\n",
    "sample1_resized = cv2.resize(sample1, (224, 224))  # Resize image to 224x224\n",
    "\n",
    "# Preprocess the image (normalize if needed, optional)\n",
    "sample1_preprocessed = sample1_resized / 255.0  # Normalize the pixel values between 0 and 1\n",
    "\n",
    "# Add an extra dimension for batch size, reshape for the model input: (1, 224, 224, 3)\n",
    "sample1_input = sample1_preprocessed.reshape(1, 224, 224, 3)\n",
    "\n",
    "# Prediction\n",
    "y_pred = model.predict(sample1_input)\n",
    "\n",
    "print(y_pred)\n"
   ]
  }
 ],
 "metadata": {
  "accelerator": "GPU",
  "colab": {
   "gpuType": "T4",
   "provenance": []
  },
  "kernelspec": {
   "display_name": "sagemaker-distribution:Python",
   "language": "python",
   "name": "conda-env-sagemaker-distribution-py"
  },
  "language_info": {
   "codemirror_mode": {
    "name": "ipython",
    "version": 3
   },
   "file_extension": ".py",
   "mimetype": "text/x-python",
   "name": "python",
   "nbconvert_exporter": "python",
   "pygments_lexer": "ipython3",
   "version": "3.10.14"
  }
 },
 "nbformat": 4,
 "nbformat_minor": 4
}
